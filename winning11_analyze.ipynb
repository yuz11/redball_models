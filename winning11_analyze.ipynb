{
 "cells": [
  {
   "cell_type": "code",
   "execution_count": 4,
   "metadata": {},
   "outputs": [
    {
     "name": "stdout",
     "output_type": "stream",
     "text": [
      "85013\n",
      "85013\n"
     ]
    }
   ],
   "source": [
    "#data format\n",
    "def NemoCfgMongoClient():\n",
    "    #user = \"root\"\n",
    "    #pw   = \"bYKH2Utx47Nw4P\"\n",
    "    host = \"0.0.0.0\"\n",
    "    port = 27017\n",
    "    from pymongo import MongoClient\n",
    "    uri = \"mongodb://%s:%s\" % (host, port)\n",
    "    client = MongoClient(uri)\n",
    "    return client\n",
    "client = NemoCfgMongoClient()\n",
    "X = []\n",
    "Y = []\n",
    "def in_data_format(doc):\n",
    "    return [float(doc[\"home_water\"]),float(doc[\"guest_water\"]),float(doc[\"win_rate\"]),float(doc[\"draw_rate\"]),float(doc[\"lost_rate\"])]\n",
    "def out_data_format(doc):\n",
    "    result = doc[\"score\"].split(\":\")\n",
    "    home_score = int(result[0])\n",
    "    guest_socre = int(result[1])\n",
    "    if home_score>guest_socre:\n",
    "        return 3\n",
    "    elif home_score==guest_socre:\n",
    "        return 1\n",
    "    else:\n",
    "        return 0\n",
    "    \n",
    "for doc in client.data_500wan.games.find():\n",
    "    try:\n",
    "        X.append(in_data_format(doc))\n",
    "        Y.append(out_data_format(doc))\n",
    "    except:\n",
    "        print doc\n",
    "        continue\n",
    "print len(X)\n",
    "print len(Y)"
   ]
  },
  {
   "cell_type": "code",
   "execution_count": 1,
   "metadata": {},
   "outputs": [
    {
     "ename": "NameError",
     "evalue": "name 'X' is not defined",
     "output_type": "error",
     "traceback": [
      "\u001b[0;31m\u001b[0m",
      "\u001b[0;31mNameError\u001b[0mTraceback (most recent call last)",
      "\u001b[0;32m<ipython-input-1-ee9f3c6f78e5>\u001b[0m in \u001b[0;36m<module>\u001b[0;34m()\u001b[0m\n\u001b[1;32m      1\u001b[0m \u001b[0;32mfrom\u001b[0m  \u001b[0msklearn\u001b[0m \u001b[0;32mimport\u001b[0m \u001b[0mpreprocessing\u001b[0m\u001b[0;34m\u001b[0m\u001b[0m\n\u001b[0;32m----> 2\u001b[0;31m \u001b[0mscaler\u001b[0m\u001b[0;34m=\u001b[0m\u001b[0mpreprocessing\u001b[0m\u001b[0;34m.\u001b[0m\u001b[0mStandardScaler\u001b[0m\u001b[0;34m(\u001b[0m\u001b[0;34m)\u001b[0m\u001b[0;34m.\u001b[0m\u001b[0mfit\u001b[0m\u001b[0;34m(\u001b[0m\u001b[0mX\u001b[0m\u001b[0;34m)\u001b[0m\u001b[0;34m\u001b[0m\u001b[0m\n\u001b[0m\u001b[1;32m      3\u001b[0m \u001b[0mX_New\u001b[0m\u001b[0;34m=\u001b[0m\u001b[0mscaler\u001b[0m\u001b[0;34m.\u001b[0m\u001b[0mtransform\u001b[0m\u001b[0;34m(\u001b[0m\u001b[0mX\u001b[0m\u001b[0;34m)\u001b[0m\u001b[0;34m\u001b[0m\u001b[0m\n\u001b[1;32m      4\u001b[0m \u001b[0;34m\u001b[0m\u001b[0m\n\u001b[1;32m      5\u001b[0m \u001b[0;32mfrom\u001b[0m \u001b[0msklearn\u001b[0m\u001b[0;34m.\u001b[0m\u001b[0mmodel_selection\u001b[0m \u001b[0;32mimport\u001b[0m \u001b[0mtrain_test_split\u001b[0m\u001b[0;34m\u001b[0m\u001b[0m\n",
      "\u001b[0;31mNameError\u001b[0m: name 'X' is not defined"
     ]
    }
   ],
   "source": [
    "from  sklearn import preprocessing  \n",
    "scaler=preprocessing.StandardScaler().fit(X) \n",
    "X_New=scaler.transform(X) \n",
    "\n",
    "from sklearn.model_selection import train_test_split\n",
    "X_train, X_test, Y_train, Y_test = train_test_split(X_New, Y, train_size = 0.8,random_state=2) #train 70%, test 30%\n",
    "\n",
    "\n"
   ]
  },
  {
   "cell_type": "code",
   "execution_count": 8,
   "metadata": {},
   "outputs": [
    {
     "name": "stdout",
     "output_type": "stream",
     "text": [
      "0.41742286751361163\n"
     ]
    }
   ],
   "source": [
    "#Decesion Tree\n",
    "from sklearn import tree\n",
    "clf = tree.DecisionTreeClassifier()\n",
    "clf = clf.fit(X_train, Y_train)\n",
    "print( clf.score(X_test, Y_test) )"
   ]
  },
  {
   "cell_type": "code",
   "execution_count": 22,
   "metadata": {},
   "outputs": [
    {
     "name": "stdout",
     "output_type": "stream",
     "text": [
      "0.5335753176043557\n"
     ]
    }
   ],
   "source": [
    "from sklearn.neural_network import MLPClassifier\n",
    "clf = MLPClassifier(solver='sgd', alpha=1e-5,\n",
    "                    hidden_layer_sizes=(5, 2), random_state=1)\n",
    "clf = clf.fit(X_train, Y_train)\n",
    "print( clf.score(X_test, Y_test))"
   ]
  },
  {
   "cell_type": "code",
   "execution_count": 23,
   "metadata": {},
   "outputs": [
    {
     "name": "stdout",
     "output_type": "stream",
     "text": [
      "[[ 0.21838624 -0.12440969  0.75418843 -0.10087233 -0.75087186]]\n",
      "[0]\n",
      "[[0.36704811 0.34804478 0.28490711]]\n",
      "[[ 1.28881034 -1.48443027  0.11968603 -0.57362548 -0.56843575]]\n",
      "[0]\n",
      "[[0.36309221 0.32204917 0.31485861]]\n",
      "[[ 0.41479433 -1.09585296 -0.59557121  0.08822893  0.0115477 ]]\n",
      "[3]\n",
      "[[0.23021925 0.17514119 0.59463956]]\n"
     ]
    }
   ],
   "source": [
    "print scaler.transform([[0.98,0.95,4.0,3.8,1.95]])\n",
    "in_data = scaler.transform([[0.98,0.95,4.0,3.8,1.95]])\n",
    "print clf.predict(in_data)\n",
    "print clf.predict_proba(in_data)\n",
    "\n",
    "print scaler.transform([[1.089,0.81,2.9,3.3,2.62]])\n",
    "in_data = scaler.transform([[1.089,0.81,2.9,3.3,2.62]])\n",
    "print clf.predict(in_data)\n",
    "print clf.predict_proba(in_data)\n",
    "\n",
    "print scaler.transform([[1.0,0.85,1.66,4.0,4.75]])\n",
    "in_data = scaler.transform([[1.0,0.85,1.66,4.0,4.75]])\n",
    "print clf.predict(in_data)\n",
    "print clf.predict_proba(in_data)"
   ]
  },
  {
   "cell_type": "code",
   "execution_count": 16,
   "metadata": {},
   "outputs": [
    {
     "name": "stdout",
     "output_type": "stream",
     "text": [
      "0.5190562613430127\n"
     ]
    }
   ],
   "source": [
    "from sklearn import svm\n",
    "clf = svm.SVC(kernel='linear', C=1)\n",
    "clf = clf.fit(X_train, Y_train)\n",
    "print( clf.score(X_test, Y_test) )"
   ]
  },
  {
   "cell_type": "code",
   "execution_count": 17,
   "metadata": {},
   "outputs": [
    {
     "name": "stdout",
     "output_type": "stream",
     "text": [
      "[[ 0.21838624 -0.12440969  0.75418843 -0.10087233 -0.75087186]]\n",
      "[0]\n"
     ]
    },
    {
     "ename": "AttributeError",
     "evalue": "predict_proba is not available when  probability=False",
     "output_type": "error",
     "traceback": [
      "\u001b[0;31m\u001b[0m",
      "\u001b[0;31mAttributeError\u001b[0mTraceback (most recent call last)",
      "\u001b[0;32m<ipython-input-17-0e3d4cc554b7>\u001b[0m in \u001b[0;36m<module>\u001b[0;34m()\u001b[0m\n\u001b[1;32m      2\u001b[0m \u001b[0min_data\u001b[0m \u001b[0;34m=\u001b[0m \u001b[0mscaler\u001b[0m\u001b[0;34m.\u001b[0m\u001b[0mtransform\u001b[0m\u001b[0;34m(\u001b[0m\u001b[0;34m[\u001b[0m\u001b[0;34m[\u001b[0m\u001b[0;36m0.98\u001b[0m\u001b[0;34m,\u001b[0m\u001b[0;36m0.95\u001b[0m\u001b[0;34m,\u001b[0m\u001b[0;36m4.0\u001b[0m\u001b[0;34m,\u001b[0m\u001b[0;36m3.8\u001b[0m\u001b[0;34m,\u001b[0m\u001b[0;36m1.95\u001b[0m\u001b[0;34m]\u001b[0m\u001b[0;34m]\u001b[0m\u001b[0;34m)\u001b[0m\u001b[0;34m\u001b[0m\u001b[0m\n\u001b[1;32m      3\u001b[0m \u001b[0;32mprint\u001b[0m \u001b[0mclf\u001b[0m\u001b[0;34m.\u001b[0m\u001b[0mpredict\u001b[0m\u001b[0;34m(\u001b[0m\u001b[0min_data\u001b[0m\u001b[0;34m)\u001b[0m\u001b[0;34m\u001b[0m\u001b[0m\n\u001b[0;32m----> 4\u001b[0;31m \u001b[0;32mprint\u001b[0m \u001b[0mclf\u001b[0m\u001b[0;34m.\u001b[0m\u001b[0mpredict_proba\u001b[0m\u001b[0;34m(\u001b[0m\u001b[0min_data\u001b[0m\u001b[0;34m)\u001b[0m\u001b[0;34m\u001b[0m\u001b[0m\n\u001b[0m",
      "\u001b[0;32m/usr/lib64/python2.7/site-packages/sklearn/svm/base.pyc\u001b[0m in \u001b[0;36mpredict_proba\u001b[0;34m(self)\u001b[0m\n\u001b[1;32m    588\u001b[0m         \u001b[0mdatasets\u001b[0m\u001b[0;34m.\u001b[0m\u001b[0;34m\u001b[0m\u001b[0m\n\u001b[1;32m    589\u001b[0m         \"\"\"\n\u001b[0;32m--> 590\u001b[0;31m         \u001b[0mself\u001b[0m\u001b[0;34m.\u001b[0m\u001b[0m_check_proba\u001b[0m\u001b[0;34m(\u001b[0m\u001b[0;34m)\u001b[0m\u001b[0;34m\u001b[0m\u001b[0m\n\u001b[0m\u001b[1;32m    591\u001b[0m         \u001b[0;32mreturn\u001b[0m \u001b[0mself\u001b[0m\u001b[0;34m.\u001b[0m\u001b[0m_predict_proba\u001b[0m\u001b[0;34m\u001b[0m\u001b[0m\n\u001b[1;32m    592\u001b[0m \u001b[0;34m\u001b[0m\u001b[0m\n",
      "\u001b[0;32m/usr/lib64/python2.7/site-packages/sklearn/svm/base.pyc\u001b[0m in \u001b[0;36m_check_proba\u001b[0;34m(self)\u001b[0m\n\u001b[1;32m    555\u001b[0m     \u001b[0;32mdef\u001b[0m \u001b[0m_check_proba\u001b[0m\u001b[0;34m(\u001b[0m\u001b[0mself\u001b[0m\u001b[0;34m)\u001b[0m\u001b[0;34m:\u001b[0m\u001b[0;34m\u001b[0m\u001b[0m\n\u001b[1;32m    556\u001b[0m         \u001b[0;32mif\u001b[0m \u001b[0;32mnot\u001b[0m \u001b[0mself\u001b[0m\u001b[0;34m.\u001b[0m\u001b[0mprobability\u001b[0m\u001b[0;34m:\u001b[0m\u001b[0;34m\u001b[0m\u001b[0m\n\u001b[0;32m--> 557\u001b[0;31m             raise AttributeError(\"predict_proba is not available when \"\n\u001b[0m\u001b[1;32m    558\u001b[0m                                  \" probability=False\")\n\u001b[1;32m    559\u001b[0m         \u001b[0;32mif\u001b[0m \u001b[0mself\u001b[0m\u001b[0;34m.\u001b[0m\u001b[0m_impl\u001b[0m \u001b[0;32mnot\u001b[0m \u001b[0;32min\u001b[0m \u001b[0;34m(\u001b[0m\u001b[0;34m'c_svc'\u001b[0m\u001b[0;34m,\u001b[0m \u001b[0;34m'nu_svc'\u001b[0m\u001b[0;34m)\u001b[0m\u001b[0;34m:\u001b[0m\u001b[0;34m\u001b[0m\u001b[0m\n",
      "\u001b[0;31mAttributeError\u001b[0m: predict_proba is not available when  probability=False"
     ]
    }
   ],
   "source": [
    "print scaler.transform([[0.98,0.95,4.0,3.8,1.95]])\n",
    "in_data = scaler.transform([[0.98,0.95,4.0,3.8,1.95]])\n",
    "print clf.predict(in_data)\n",
    "print clf.predict_proba(in_data)"
   ]
  },
  {
   "cell_type": "code",
   "execution_count": 2,
   "metadata": {},
   "outputs": [
    {
     "name": "stderr",
     "output_type": "stream",
     "text": [
      "/usr/lib64/python2.7/site-packages/sklearn/cross_validation.py:41: DeprecationWarning: This module was deprecated in version 0.18 in favor of the model_selection module into which all the refactored classes and functions are moved. Also note that the interface of the new CV iterators are different from that of this module. This module will be removed in 0.20.\n",
      "  \"This module will be removed in 0.20.\", DeprecationWarning)\n"
     ]
    }
   ],
   "source": [
    "import pandas\n",
    "from pandas.tools.plotting import scatter_matrix\n",
    "import matplotlib.pyplot as plt\n",
    "from sklearn import cross_validation\n",
    "from sklearn.metrics import classification_report\n",
    "from sklearn.metrics import confusion_matrix\n",
    "from sklearn.metrics import accuracy_score\n",
    "from sklearn.linear_model import LogisticRegression\n",
    "from sklearn.tree import DecisionTreeClassifier\n",
    "from sklearn.neighbors import KNeighborsClassifier\n",
    "from sklearn.discriminant_analysis import LinearDiscriminantAnalysis\n",
    "from sklearn.naive_bayes import GaussianNB\n",
    "from sklearn.svm import SVC"
   ]
  },
  {
   "cell_type": "code",
   "execution_count": 3,
   "metadata": {},
   "outputs": [
    {
     "name": "stdout",
     "output_type": "stream",
     "text": [
      "[[ 1.62434536]\n",
      " [-0.61175641]\n",
      " [-0.52817175]\n",
      " [-1.07296862]\n",
      " [ 0.86540763]\n",
      " [-2.3015387 ]\n",
      " [ 1.74481176]\n",
      " [-0.7612069 ]\n",
      " [ 0.3190391 ]\n",
      " [-0.24937038]\n",
      " [ 1.46210794]\n",
      " [-2.06014071]\n",
      " [-0.3224172 ]\n",
      " [-0.38405435]\n",
      " [ 1.13376944]\n",
      " [-1.09989127]\n",
      " [-0.17242821]\n",
      " [-0.87785842]\n",
      " [ 0.04221375]\n",
      " [ 0.58281521]\n",
      " [-1.10061918]\n",
      " [ 1.14472371]\n",
      " [ 0.90159072]\n",
      " [ 0.50249434]\n",
      " [ 0.90085595]\n",
      " [-0.68372786]\n",
      " [-0.12289023]\n",
      " [-0.93576943]\n",
      " [-0.26788808]\n",
      " [ 0.53035547]\n",
      " [ 4.30833925]\n",
      " [ 4.60324647]\n",
      " [ 4.3128273 ]\n",
      " [ 4.15479436]\n",
      " [ 4.32875387]\n",
      " [ 4.9873354 ]\n",
      " [ 3.88268965]\n",
      " [ 5.2344157 ]\n",
      " [ 6.65980218]\n",
      " [ 5.74204416]\n",
      " [ 4.80816445]\n",
      " [ 4.11237104]\n",
      " [ 4.25284171]\n",
      " [ 6.6924546 ]\n",
      " [ 5.05080775]\n",
      " [ 4.36300435]\n",
      " [ 5.19091548]\n",
      " [ 7.10025514]\n",
      " [ 5.12015895]\n",
      " [ 5.61720311]\n",
      " [ 5.30017032]\n",
      " [ 4.64775015]\n",
      " [ 3.8574818 ]\n",
      " [ 4.65065728]\n",
      " [ 4.79110577]\n",
      " [ 5.58662319]\n",
      " [ 5.83898341]\n",
      " [ 5.93110208]\n",
      " [ 5.28558733]\n",
      " [ 5.88514116]\n",
      " [ 4.24560206]\n",
      " [ 6.25286816]\n",
      " [ 5.51292982]\n",
      " [ 4.70190716]\n",
      " [ 5.48851815]\n",
      " [ 4.92442829]\n",
      " [ 6.13162939]\n",
      " [ 6.51981682]\n",
      " [ 7.18557541]\n",
      " [ 3.60350366]\n",
      " [ 3.55588619]\n",
      " [ 4.49553414]\n",
      " [ 5.16003707]\n",
      " [ 5.87616892]\n",
      " [ 5.31563495]\n",
      " [ 2.97779878]\n",
      " [ 4.69379599]\n",
      " [ 5.82797464]\n",
      " [ 5.23009474]\n",
      " [ 5.76201118]\n",
      " [ 4.77767186]\n",
      " [ 4.79924193]\n",
      " [ 5.18656139]\n",
      " [ 5.41005165]\n",
      " [ 5.19829972]\n",
      " [ 5.11900865]\n",
      " [ 4.32933771]\n",
      " [ 5.37756379]\n",
      " [ 5.12182127]\n",
      " [ 6.12948391]\n",
      " [ 6.19891788]\n",
      " [ 5.18515642]\n",
      " [ 4.62471505]\n",
      " [ 4.36126959]\n",
      " [ 5.42349435]\n",
      " [ 5.07734007]\n",
      " [ 4.65614632]\n",
      " [ 5.04359686]\n",
      " [ 4.37999916]\n",
      " [ 5.69803203]]\n"
     ]
    },
    {
     "data": {
      "image/png": "[encoded data removed]",
      "text/plain": [
       "<Figure size 432x288 with 1 Axes>"
      ]
     },
     "metadata": {},
     "output_type": "display_data"
    }
   ],
   "source": [
    "# Author: Jake Vanderplas <jakevdp@cs.washington.edu>\n",
    "#\n",
    "import numpy as np\n",
    "import matplotlib.pyplot as plt\n",
    "from scipy.stats import norm\n",
    "from sklearn.neighbors import KernelDensity\n",
    "\n",
    "#----------------------------------------------------------------------\n",
    "# Plot a 1D density example\n",
    "N = 100\n",
    "np.random.seed(1)\n",
    "X = np.concatenate((np.random.normal(0, 1, int(0.3 * N)),\n",
    "                    np.random.normal(5, 1, int(0.7 * N))))[:, np.newaxis]\n",
    "\n",
    "print X\n",
    "\n",
    "X_plot = np.linspace(-5, 10, 1000)[:, np.newaxis]\n",
    "\n",
    "true_dens = (0.3 * norm(0, 1).pdf(X_plot[:, 0])\n",
    "             + 0.7 * norm(5, 1).pdf(X_plot[:, 0]))\n",
    "\n",
    "fig, ax = plt.subplots()\n",
    "ax.fill(X_plot[:, 0], true_dens, fc='black', alpha=0.2,\n",
    "        label='input distribution')\n",
    "\n",
    "for kernel in ['gaussian', 'tophat', 'epanechnikov']:\n",
    "    kde = KernelDensity(kernel=kernel, bandwidth=0.5).fit(X)\n",
    "    log_dens = kde.score_samples(X_plot)\n",
    "    ax.plot(X_plot[:, 0], np.exp(log_dens), '-',\n",
    "            label=\"kernel = '{0}'\".format(kernel))\n",
    "\n",
    "ax.text(6, 0.38, \"N={0} points\".format(N))\n",
    "\n",
    "ax.legend(loc='upper left')\n",
    "ax.plot(X[:, 0], -0.005 - 0.01 * np.random.random(X.shape[0]), '+k')\n",
    "\n",
    "ax.set_xlim(-4, 9)\n",
    "ax.set_ylim(-0.02, 0.4)\n",
    "plt.show()"
   ]
  },
  {
   "cell_type": "code",
   "execution_count": null,
   "metadata": {},
   "outputs": [],
   "source": []
  }
 ],
 "metadata": {
  "kernelspec": {
   "display_name": "Python 2",
   "language": "python",
   "name": "python2"
  },
  "language_info": {
   "codemirror_mode": {
    "name": "ipython",
    "version": 2
   },
   "file_extension": ".py",
   "mimetype": "text/x-python",
   "name": "python",
   "nbconvert_exporter": "python",
   "pygments_lexer": "ipython2",
   "version": "2.7.5"
  }
 },
 "nbformat": 4,
 "nbformat_minor": 2
}
